{
 "cells": [
  {
   "cell_type": "markdown",
   "metadata": {},
   "source": [
    "  # Steigende Temperaturen in Berlin Tegel\n",
    "\n",
    "  Die in diesem Notebook genutzten Daten stammen vom [Deutschen Wetterdienst (DWD)](https://www.dwd.de/)\n",
    "  und werden über das [Climate Data Center (CDC)](https://www.dwd.de/DE/klimaumwelt/cdc/cdc_node.html) zur Verfügung gestellt.\n",
    "  Konkret werden die\n",
    "  [historischen](https://opendata.dwd.de/climate_environment/CDC/observations_germany/climate/daily/kl/historical/tageswerte_KL_00430_19630101_20181231_hist.zip)\n",
    "  und\n",
    "  [aktuellen](https://opendata.dwd.de/climate_environment/CDC/observations_germany/climate/daily/kl/recent/tageswerte_KL_00430_akt.zip)\n",
    "  täglichen Wetterdaten der DWD Messstation 430 in Berlin Tegel seit 1.1.1963 verwendet."
   ]
  },
  {
   "cell_type": "code",
   "execution_count": 1,
   "metadata": {},
   "outputs": [],
   "source": [
    "from IPython import get_ipython"
   ]
  },
  {
   "cell_type": "code",
   "execution_count": 2,
   "metadata": {},
   "outputs": [],
   "source": [
    "# ms-python.python added\n",
    "import os\n",
    "try:\n",
    "    os.chdir(os.path.join(os.getcwd(), 'notebooks'))\n",
    "    print(os.getcwd())\n",
    "except:\n",
    "    pass\n",
    "\n",
    "from IPython import get_ipython\n",
    "get_ipython().run_line_magic('matplotlib', 'inline')\n",
    "\n",
    "import matplotlib.pyplot as plt\n",
    "import numpy as np\n",
    "import pandas as pd\n",
    "from scipy.stats import shapiro\n",
    "import seaborn as sns\n",
    "from statsmodels.tsa.stattools import adfuller, kpss\n",
    "\n",
    "from pandas.plotting import register_matplotlib_converters\n",
    "register_matplotlib_converters()\n",
    "\n",
    "sns.set(rc={'figure.figsize':(20,10)})\n",
    "\n",
    "data_files = [\n",
    "    '../data/historisch/produkt_klima_tag_19630101_20181231_00430.txt',\n",
    "    # '../data/aktuell/produkt_klima_tag_20180215_20190818_00430.txt'\n",
    "]\n",
    "df = pd.concat((pd.read_csv(f, \n",
    "                            sep=';',\n",
    "                            header=None,\n",
    "                            skiprows=1,\n",
    "                            names=['STATIONS_ID', 'MESS_DATUM', 'QN_3', 'FX', 'FM', 'QN_4', 'RSK', 'RSKF', 'SDK', 'SHK_TAG', 'NM', 'VPM', 'PM', 'TMK', 'UPM', 'TXK', 'TNK', 'TGK', 'eor'],\n",
    "                            usecols=['MESS_DATUM', 'RSK', 'TMK'],\n",
    "                            na_values=['-999'],\n",
    "                            parse_dates=['MESS_DATUM'],\n",
    "                            ) for f in data_files), ignore_index=True)\n",
    "df.index = df['MESS_DATUM']\n",
    "df = df.drop(columns=['MESS_DATUM'])"
   ]
  },
  {
   "cell_type": "code",
   "execution_count": 3,
   "metadata": {},
   "outputs": [],
   "source": [
    "def add_source(_ax):\n",
    "    \"\"\"Hilfsfunktion um Quellenangabe einem Plot hinzuzufügen\"\"\"\n",
    "    _ax.text(1, 1, 'Quelle: Deutscher Wetterdienst (DWD)', ha='right', va='top', transform=_ax.transAxes)"
   ]
  },
  {
   "cell_type": "markdown",
   "metadata": {},
   "source": [
    "## Tägliche Regenmenge (RSK) und Durchschnittstemperatur (TMK)\n",
    "\n",
    "Die Datensammlung vom DWD umfasst eine Vielzahl von Messwerten wie Sonnenscheindauer,\n",
    "relative Luftfeuchte, max. Windgeschwindigkeit, etc.\n",
    "\n",
    "Ich picke mir lediglich zwei Werte raus:\n",
    "\n",
    "- tägliche Regenmenge (RSK) - nehmen die Niederschläge ab und wird es immer trockener?\n",
    "- tägliche Durchschnittstemperatur (TMK) - steigt die Temperatur?\n",
    "\n",
    "Beide Werte stehen für alle Tage seit dem 1.1.1963 zur Verfügung."
   ]
  },
  {
   "cell_type": "code",
   "execution_count": 4,
   "metadata": {},
   "outputs": [
    {
     "data": {
      "text/html": [
       "<div>\n",
       "<style scoped>\n",
       "    .dataframe tbody tr th:only-of-type {\n",
       "        vertical-align: middle;\n",
       "    }\n",
       "\n",
       "    .dataframe tbody tr th {\n",
       "        vertical-align: top;\n",
       "    }\n",
       "\n",
       "    .dataframe thead th {\n",
       "        text-align: right;\n",
       "    }\n",
       "</style>\n",
       "<table border=\"1\" class=\"dataframe\">\n",
       "  <thead>\n",
       "    <tr style=\"text-align: right;\">\n",
       "      <th></th>\n",
       "      <th>RSK</th>\n",
       "      <th>TMK</th>\n",
       "    </tr>\n",
       "    <tr>\n",
       "      <th>MESS_DATUM</th>\n",
       "      <th></th>\n",
       "      <th></th>\n",
       "    </tr>\n",
       "  </thead>\n",
       "  <tbody>\n",
       "    <tr>\n",
       "      <th>1963-01-01</th>\n",
       "      <td>0.0</td>\n",
       "      <td>-12.4</td>\n",
       "    </tr>\n",
       "    <tr>\n",
       "      <th>1963-01-02</th>\n",
       "      <td>0.0</td>\n",
       "      <td>-10.2</td>\n",
       "    </tr>\n",
       "    <tr>\n",
       "      <th>1963-01-03</th>\n",
       "      <td>0.0</td>\n",
       "      <td>-7.2</td>\n",
       "    </tr>\n",
       "    <tr>\n",
       "      <th>1963-01-04</th>\n",
       "      <td>1.3</td>\n",
       "      <td>-2.6</td>\n",
       "    </tr>\n",
       "    <tr>\n",
       "      <th>1963-01-05</th>\n",
       "      <td>0.0</td>\n",
       "      <td>1.7</td>\n",
       "    </tr>\n",
       "  </tbody>\n",
       "</table>\n",
       "</div>"
      ],
      "text/plain": [
       "            RSK   TMK\n",
       "MESS_DATUM           \n",
       "1963-01-01  0.0 -12.4\n",
       "1963-01-02  0.0 -10.2\n",
       "1963-01-03  0.0  -7.2\n",
       "1963-01-04  1.3  -2.6\n",
       "1963-01-05  0.0   1.7"
      ]
     },
     "execution_count": 4,
     "metadata": {},
     "output_type": "execute_result"
    }
   ],
   "source": [
    "df.head(5)"
   ]
  },
  {
   "cell_type": "code",
   "execution_count": 5,
   "metadata": {},
   "outputs": [
    {
     "name": "stdout",
     "output_type": "stream",
     "text": [
      "<class 'pandas.core.frame.DataFrame'>\n",
      "DatetimeIndex: 20454 entries, 1963-01-01 to 2018-12-31\n",
      "Data columns (total 2 columns):\n",
      "RSK    20453 non-null float64\n",
      "TMK    20454 non-null float64\n",
      "dtypes: float64(2)\n",
      "memory usage: 479.4 KB\n"
     ]
    }
   ],
   "source": [
    "df.info()"
   ]
  },
  {
   "cell_type": "code",
   "execution_count": 6,
   "metadata": {},
   "outputs": [
    {
     "data": {
      "text/html": [
       "<div>\n",
       "<style scoped>\n",
       "    .dataframe tbody tr th:only-of-type {\n",
       "        vertical-align: middle;\n",
       "    }\n",
       "\n",
       "    .dataframe tbody tr th {\n",
       "        vertical-align: top;\n",
       "    }\n",
       "\n",
       "    .dataframe thead th {\n",
       "        text-align: right;\n",
       "    }\n",
       "</style>\n",
       "<table border=\"1\" class=\"dataframe\">\n",
       "  <thead>\n",
       "    <tr style=\"text-align: right;\">\n",
       "      <th></th>\n",
       "      <th>RSK</th>\n",
       "      <th>TMK</th>\n",
       "    </tr>\n",
       "  </thead>\n",
       "  <tbody>\n",
       "    <tr>\n",
       "      <th>count</th>\n",
       "      <td>20453.000000</td>\n",
       "      <td>20454.000000</td>\n",
       "    </tr>\n",
       "    <tr>\n",
       "      <th>mean</th>\n",
       "      <td>1.503432</td>\n",
       "      <td>9.851545</td>\n",
       "    </tr>\n",
       "    <tr>\n",
       "      <th>std</th>\n",
       "      <td>3.975919</td>\n",
       "      <td>7.914333</td>\n",
       "    </tr>\n",
       "    <tr>\n",
       "      <th>min</th>\n",
       "      <td>0.000000</td>\n",
       "      <td>-18.100000</td>\n",
       "    </tr>\n",
       "    <tr>\n",
       "      <th>25%</th>\n",
       "      <td>0.000000</td>\n",
       "      <td>3.900000</td>\n",
       "    </tr>\n",
       "    <tr>\n",
       "      <th>50%</th>\n",
       "      <td>0.000000</td>\n",
       "      <td>10.000000</td>\n",
       "    </tr>\n",
       "    <tr>\n",
       "      <th>75%</th>\n",
       "      <td>1.300000</td>\n",
       "      <td>16.000000</td>\n",
       "    </tr>\n",
       "    <tr>\n",
       "      <th>max</th>\n",
       "      <td>196.900000</td>\n",
       "      <td>30.800000</td>\n",
       "    </tr>\n",
       "  </tbody>\n",
       "</table>\n",
       "</div>"
      ],
      "text/plain": [
       "                RSK           TMK\n",
       "count  20453.000000  20454.000000\n",
       "mean       1.503432      9.851545\n",
       "std        3.975919      7.914333\n",
       "min        0.000000    -18.100000\n",
       "25%        0.000000      3.900000\n",
       "50%        0.000000     10.000000\n",
       "75%        1.300000     16.000000\n",
       "max      196.900000     30.800000"
      ]
     },
     "execution_count": 6,
     "metadata": {},
     "output_type": "execute_result"
    }
   ],
   "source": [
    "df.describe()"
   ]
  },
  {
   "cell_type": "markdown",
   "metadata": {},
   "source": [
    "Man erkennt an der Standardabweichung im Vergleich zu den Mittelwerten,\n",
    "dass die Tageswerte für Temperatur und Niederschlag wenig hilfreich sind,\n",
    "da die Messwerte stark schwanken (sie sind saisonal - Jahreszeiten).\n",
    "\n",
    "Dies lässt sich für am Beispiel der Temperaturwerte in einem Boxplot visualisieren."
   ]
  },
  {
   "cell_type": "code",
   "execution_count": 7,
   "metadata": {},
   "outputs": [
    {
     "data": {
      "image/png": "[encoded data removed]",
      "text/plain": [
       "<Figure size 432x288 with 1 Axes>"
      ]
     },
     "metadata": {
      "needs_background": "light"
     },
     "output_type": "display_data"
    }
   ],
   "source": [
    "add_source(sns.boxplot(x=df['TMK']))"
   ]
  },
  {
   "cell_type": "markdown",
   "metadata": {},
   "source": [
    "## Analyse Tagesmittel der Temperatur\n",
    "\n",
    "Im Fall der Tagestemperaturwerte (TMK) ist es daher sinnvoller, einen jährlichen Durchschnitt zu bilden. Dadurch spielen Jahreszeiten keine Rolle mehr."
   ]
  },
  {
   "cell_type": "code",
   "execution_count": 8,
   "metadata": {},
   "outputs": [
    {
     "data": {
      "text/html": [
       "<div>\n",
       "<style scoped>\n",
       "    .dataframe tbody tr th:only-of-type {\n",
       "        vertical-align: middle;\n",
       "    }\n",
       "\n",
       "    .dataframe tbody tr th {\n",
       "        vertical-align: top;\n",
       "    }\n",
       "\n",
       "    .dataframe thead th {\n",
       "        text-align: right;\n",
       "    }\n",
       "</style>\n",
       "<table border=\"1\" class=\"dataframe\">\n",
       "  <thead>\n",
       "    <tr style=\"text-align: right;\">\n",
       "      <th></th>\n",
       "      <th>TMK</th>\n",
       "    </tr>\n",
       "    <tr>\n",
       "      <th>MESS_DATUM</th>\n",
       "      <th></th>\n",
       "    </tr>\n",
       "  </thead>\n",
       "  <tbody>\n",
       "    <tr>\n",
       "      <th>1963-12-31</th>\n",
       "      <td>8.266575</td>\n",
       "    </tr>\n",
       "    <tr>\n",
       "      <th>1964-12-31</th>\n",
       "      <td>8.927322</td>\n",
       "    </tr>\n",
       "    <tr>\n",
       "      <th>1965-12-31</th>\n",
       "      <td>8.337260</td>\n",
       "    </tr>\n",
       "    <tr>\n",
       "      <th>1966-12-31</th>\n",
       "      <td>9.263562</td>\n",
       "    </tr>\n",
       "    <tr>\n",
       "      <th>1967-12-31</th>\n",
       "      <td>10.159452</td>\n",
       "    </tr>\n",
       "  </tbody>\n",
       "</table>\n",
       "</div>"
      ],
      "text/plain": [
       "                  TMK\n",
       "MESS_DATUM           \n",
       "1963-12-31   8.266575\n",
       "1964-12-31   8.927322\n",
       "1965-12-31   8.337260\n",
       "1966-12-31   9.263562\n",
       "1967-12-31  10.159452"
      ]
     },
     "execution_count": 8,
     "metadata": {},
     "output_type": "execute_result"
    }
   ],
   "source": [
    "temp_df = df[['TMK']].resample('Y').mean()\n",
    "temp_df.head(5)"
   ]
  },
  {
   "cell_type": "code",
   "execution_count": 9,
   "metadata": {},
   "outputs": [
    {
     "data": {
      "text/html": [
       "<div>\n",
       "<style scoped>\n",
       "    .dataframe tbody tr th:only-of-type {\n",
       "        vertical-align: middle;\n",
       "    }\n",
       "\n",
       "    .dataframe tbody tr th {\n",
       "        vertical-align: top;\n",
       "    }\n",
       "\n",
       "    .dataframe thead th {\n",
       "        text-align: right;\n",
       "    }\n",
       "</style>\n",
       "<table border=\"1\" class=\"dataframe\">\n",
       "  <thead>\n",
       "    <tr style=\"text-align: right;\">\n",
       "      <th></th>\n",
       "      <th>TMK</th>\n",
       "    </tr>\n",
       "  </thead>\n",
       "  <tbody>\n",
       "    <tr>\n",
       "      <th>count</th>\n",
       "      <td>56.000000</td>\n",
       "    </tr>\n",
       "    <tr>\n",
       "      <th>mean</th>\n",
       "      <td>9.851656</td>\n",
       "    </tr>\n",
       "    <tr>\n",
       "      <th>std</th>\n",
       "      <td>0.919631</td>\n",
       "    </tr>\n",
       "    <tr>\n",
       "      <th>min</th>\n",
       "      <td>8.096448</td>\n",
       "    </tr>\n",
       "    <tr>\n",
       "      <th>25%</th>\n",
       "      <td>9.098838</td>\n",
       "    </tr>\n",
       "    <tr>\n",
       "      <th>50%</th>\n",
       "      <td>10.023410</td>\n",
       "    </tr>\n",
       "    <tr>\n",
       "      <th>75%</th>\n",
       "      <td>10.480392</td>\n",
       "    </tr>\n",
       "    <tr>\n",
       "      <th>max</th>\n",
       "      <td>11.595890</td>\n",
       "    </tr>\n",
       "  </tbody>\n",
       "</table>\n",
       "</div>"
      ],
      "text/plain": [
       "             TMK\n",
       "count  56.000000\n",
       "mean    9.851656\n",
       "std     0.919631\n",
       "min     8.096448\n",
       "25%     9.098838\n",
       "50%    10.023410\n",
       "75%    10.480392\n",
       "max    11.595890"
      ]
     },
     "execution_count": 9,
     "metadata": {},
     "output_type": "execute_result"
    }
   ],
   "source": [
    "temp_df.describe()"
   ]
  },
  {
   "cell_type": "code",
   "execution_count": 10,
   "metadata": {},
   "outputs": [
    {
     "name": "stdout",
     "output_type": "stream",
     "text": [
      "<class 'pandas.core.frame.DataFrame'>\n",
      "DatetimeIndex: 56 entries, 1963-12-31 to 2018-12-31\n",
      "Freq: A-DEC\n",
      "Data columns (total 1 columns):\n",
      "TMK    56 non-null float64\n",
      "dtypes: float64(1)\n",
      "memory usage: 896.0 bytes\n"
     ]
    }
   ],
   "source": [
    "temp_df.info()"
   ]
  },
  {
   "cell_type": "code",
   "execution_count": 11,
   "metadata": {},
   "outputs": [
    {
     "data": {
      "image/png": "[encoded data removed]",
      "text/plain": [
       "<Figure size 432x288 with 1 Axes>"
      ]
     },
     "metadata": {
      "needs_background": "light"
     },
     "output_type": "display_data"
    }
   ],
   "source": [
    "add_source(sns.boxplot(x=temp_df))"
   ]
  },
  {
   "cell_type": "markdown",
   "metadata": {},
   "source": [
    "Dieses Histogramm sieht einer Käsekurve (Normalverteilung) ziemlich ähnlich."
   ]
  },
  {
   "cell_type": "code",
   "execution_count": 12,
   "metadata": {},
   "outputs": [
    {
     "data": {
      "image/png": "[encoded data removed]",
      "text/plain": [
       "<Figure size 432x288 with 1 Axes>"
      ]
     },
     "metadata": {
      "needs_background": "light"
     },
     "output_type": "display_data"
    }
   ],
   "source": [
    "add_source(sns.distplot(temp_df))"
   ]
  },
  {
   "cell_type": "markdown",
   "metadata": {},
   "source": [
    "Mit dem Shapiro Test kann man prüfen, ob eine Wertemenge normalverteilt ist."
   ]
  },
  {
   "cell_type": "code",
   "execution_count": 13,
   "metadata": {},
   "outputs": [
    {
     "name": "stdout",
     "output_type": "stream",
     "text": [
      "Die jährliche Durschnittstemperatur ist wahrscheinlich normalverteilt.\n"
     ]
    }
   ],
   "source": [
    "stat, p = shapiro(temp_df['TMK'])\n",
    "alpha = 0.05\n",
    "if p > alpha:\n",
    "    print('Die jährliche Durschnittstemperatur ist wahrscheinlich normalverteilt.')\n",
    "else:\n",
    "    print('Die jährliche Durchschnittstemperatur ist nicht normalverteilt.')"
   ]
  },
  {
   "cell_type": "markdown",
   "metadata": {},
   "source": [
    "Auch wenn die durchschnittliche Jahrestemperatur stark schwankt, scheint es zumindest optisch einen klaren steigenden Trend zu geben."
   ]
  },
  {
   "cell_type": "code",
   "execution_count": 14,
   "metadata": {},
   "outputs": [
    {
     "data": {
      "text/plain": [
       "[<matplotlib.lines.Line2D at 0x7ff4f774b810>]"
      ]
     },
     "execution_count": 14,
     "metadata": {},
     "output_type": "execute_result"
    },
    {
     "data": {
      "image/png": "[encoded data removed]",
      "text/plain": [
       "<Figure size 432x288 with 1 Axes>"
      ]
     },
     "metadata": {
      "needs_background": "light"
     },
     "output_type": "display_data"
    }
   ],
   "source": [
    "temp = sns.lineplot(data=temp_df, legend=False)\n",
    "temp.set_xlabel('Jahr', fontsize=20)\n",
    "temp.set_ylabel('durchschn. Jahrestemperatur', fontsize=20)\n",
    "add_source(temp)\n",
    "\n",
    "x = np.arange(temp_df['TMK'].size)\n",
    "fit = np.polyfit(x, temp_df['TMK'], 1)\n",
    "fit_fn = np.poly1d(fit)\n",
    "\n",
    "temp.plot(temp_df.index, fit_fn(x), 'k-')"
   ]
  },
  {
   "cell_type": "markdown",
   "metadata": {},
   "source": [
    "Bei steigenden Temperaturen über die Jahre würde man erwarten, dass die Durschnittstemperatur der letzten Jahre über der Durschnittstemperatur der Anfangsjahre liegt.\n",
    "\n",
    "Deshalb unterteile ich die gesamte Messreihe in zwei gleichgroße Blöcke X1 und X2 und ermittel für jeden Block Durschnitt und Varianz.\n",
    "\n",
    "Achtung: Ab hier nutze ich logarithmisch vereinheitlichte Messwerte."
   ]
  },
  {
   "cell_type": "code",
   "execution_count": 15,
   "metadata": {},
   "outputs": [
    {
     "name": "stdout",
     "output_type": "stream",
     "text": [
      "mean1=2.2328857443616745, var1=0.006938846110188799\n",
      "mean2=2.3336491381848457, var2=0.005676896339597946\n"
     ]
    }
   ],
   "source": [
    "tmk_log = np.log(temp_df['TMK'].values)\n",
    "tmk_split = int(len(tmk_log) / 2)\n",
    "\n",
    "X1 = tmk_log[:tmk_split]\n",
    "X2 = tmk_log[tmk_split:]\n",
    "\n",
    "mean1 = X1.mean()\n",
    "mean2 = X2.mean()\n",
    "\n",
    "var1 = X1.var()\n",
    "var2 = X2.var()\n",
    "\n",
    "print('mean1={}, var1={}'.format(mean1, var1))\n",
    "print('mean2={}, var2={}'.format(mean2, var2))"
   ]
  },
  {
   "cell_type": "markdown",
   "metadata": {},
   "source": [
    "Die Werte sehen sehr ähnlich aus, auch wenn die zweite Hälfte der Werte eine leicht höhere Durchschnittstemperatur hat."
   ]
  },
  {
   "cell_type": "markdown",
   "metadata": {},
   "source": [
    "Es gibt verschiedene statistische Tests, um zu prüfen, ob eine Zeitreihe stationär ist oder ob sie einem Trend folgt.\n",
    "\n",
    "Zunächst führe ich den Augmented Dickey-Fuller Test durch. Die Null-Hypothese dieses Tests ist, dass die Zeitreihe nicht stationär ist, sie also einem Trend folgt."
   ]
  },
  {
   "cell_type": "code",
   "execution_count": 16,
   "metadata": {},
   "outputs": [
    {
     "name": "stdout",
     "output_type": "stream",
     "text": [
      "H0 abgelehnt: Zeitreihe anscheinend (alpha=0.05) stationär.\n",
      "ADF Statistik: -4.314\n",
      "p-value: 0.000421\n",
      "Critical Values:\n",
      "1%: -3.555\n",
      "5%: -2.916\n",
      "10%: -2.596\n"
     ]
    }
   ],
   "source": [
    "adfuller_alpha = 0.05\n",
    "\n",
    "adf_result = adfuller(tmk_log)\n",
    "adf_statistic = adf_result[0]\n",
    "adf_p_value = adf_result[1]\n",
    "\n",
    "if adf_p_value < adfuller_alpha:\n",
    "    print('H0 abgelehnt: Zeitreihe anscheinend (alpha={}) stationär.'.format(adfuller_alpha))\n",
    "else:\n",
    "    print('H0 bestätigt: Zeitreihe anscheinend (alpha={}) nicht stationär (folgt einem Trend).'.format(adfuller_alpha))\n",
    "\n",
    "print('ADF Statistik: {:.3f}'.format(adf_statistic))\n",
    "print('p-value: {:3f}'.format(adf_p_value))\n",
    "print('Critical Values:')\n",
    "for key, value in adf_result[4].items():\n",
    "    print('{}: {:.3f}'.format(key, value))"
   ]
  },
  {
   "cell_type": "markdown",
   "metadata": {},
   "source": [
    "Der Augmented Dickey-Fuller Test führt zu einer klaren Ablehnung der These, dass die Zeitreihe einem Trend folgt.\n",
    "\n",
    "Der KPSS Test ist ebenfalls anwendbar. Im Gegensatz zum vorherigen Test prüft er, ob eine Zeitreihe stationär ist, sie also keinem Trend folgt."
   ]
  },
  {
   "cell_type": "code",
   "execution_count": 17,
   "metadata": {},
   "outputs": [
    {
     "name": "stdout",
     "output_type": "stream",
     "text": [
      "H0 abgelehnt: Zeitreihe anscheinend (alpha=0.05) nicht stationär (folgt einem Trend)\n",
      "KPSS Statistik: 0.593\n",
      "p-value: 0.023313\n",
      "10%: 0.347\n",
      "5%: 0.463\n",
      "2.5%: 0.574\n",
      "1%: 0.739\n"
     ]
    }
   ],
   "source": [
    "kpss_alpha = 0.05\n",
    "\n",
    "kpss_result = kpss(tmk_log, lags='legacy')\n",
    "\n",
    "kpss_statistic = kpss_result[0]\n",
    "kpss_p_value = kpss_result[1]\n",
    "kpss_critical_values = kpss_result[3]\n",
    "\n",
    "if kpss_p_value < kpss_alpha:\n",
    "    print('H0 abgelehnt: Zeitreihe anscheinend (alpha={}) nicht stationär (folgt einem Trend)'.format(kpss_alpha))\n",
    "else:\n",
    "    print('H0 bestätigt: Zeitreihe anscheinend (alpha={}) stationär.'.format(kpss_alpha))\n",
    "\n",
    "print('KPSS Statistik: {:.3f}'.format(kpss_statistic))\n",
    "print('p-value: {:3f}'.format(kpss_p_value))\n",
    "for key, value in kpss_critical_values.items():\n",
    "    print('{}: {:.3f}'.format(key, value))"
   ]
  },
  {
   "cell_type": "markdown",
   "metadata": {},
   "source": [
    "Der KPSS Test lehnt bei einem Konfidenzniveau von 95% (alpha=0.05) ab, dass die Zeitreihe keinem Trend folgt, sie also stationär ist. Allerdings ist es nur eine schwache Ablehnung. Schon bei Anhebung des Konfidenzniveaus auf 97,5% kommt der Test zum entgegengesetzen Ergebnis."
   ]
  },
  {
   "cell_type": "markdown",
   "metadata": {},
   "source": [
    "## Interpretation Temperatur Zeitreihe\n",
    "\n",
    "Und nun? Der KPSS Test bestätigt (gerade so), dass es wohl einen Trend in den Temperaturwerten gibt, während der Augmented Dickey-Fuller Test dies stark verneint. Das Diagramm weiter oben hingegen zeigt einen klaren steigenden Trend bei den durchschnittlichen Jahrestemperaturen.\n",
    "\n",
    "So einfach ist die Sache also nicht. Wenn ich im Netz nach ähnlichen Analysen suche, dann spielen die Tagestemperaturen keine Rolle. Genutzt wird stattdessen die Temperatur der Böden, denn diese sind letztendlich entscheidend, ob die Eismassen und Permafrostböden schmelzen. Solche Messwerte liegen mir aber nicht vor.\n",
    "\n",
    "Die Ergebnisse der beiden Zeitreihen-Tests (Augmented Dickey-Fuller Test und KPSS) sind besonders kritisch zu sehen, da unklar ist, welchen Trend (oder eben gerade nicht) die Tests erkennen? Hinzu kommt, dass ich mit gerade mal gut 50 Messwerten über wenig Futter für die Tests verfüge."
   ]
  },
  {
   "cell_type": "markdown",
   "metadata": {},
   "source": [
    "## Zeitreihe jährliche Regenmenge (RSK)\n",
    "\n",
    "Bei den Regenwerten (RSK) ist die jährliche Regenmenge interessanter als die täglichen Einzelwerte."
   ]
  },
  {
   "cell_type": "code",
   "execution_count": 18,
   "metadata": {},
   "outputs": [
    {
     "data": {
      "text/html": [
       "<div>\n",
       "<style scoped>\n",
       "    .dataframe tbody tr th:only-of-type {\n",
       "        vertical-align: middle;\n",
       "    }\n",
       "\n",
       "    .dataframe tbody tr th {\n",
       "        vertical-align: top;\n",
       "    }\n",
       "\n",
       "    .dataframe thead th {\n",
       "        text-align: right;\n",
       "    }\n",
       "</style>\n",
       "<table border=\"1\" class=\"dataframe\">\n",
       "  <thead>\n",
       "    <tr style=\"text-align: right;\">\n",
       "      <th></th>\n",
       "      <th>RSK</th>\n",
       "    </tr>\n",
       "    <tr>\n",
       "      <th>MESS_DATUM</th>\n",
       "      <th></th>\n",
       "    </tr>\n",
       "  </thead>\n",
       "  <tbody>\n",
       "    <tr>\n",
       "      <th>1963-12-31</th>\n",
       "      <td>464.1</td>\n",
       "    </tr>\n",
       "    <tr>\n",
       "      <th>1964-12-31</th>\n",
       "      <td>482.2</td>\n",
       "    </tr>\n",
       "    <tr>\n",
       "      <th>1965-12-31</th>\n",
       "      <td>630.6</td>\n",
       "    </tr>\n",
       "    <tr>\n",
       "      <th>1966-12-31</th>\n",
       "      <td>752.3</td>\n",
       "    </tr>\n",
       "    <tr>\n",
       "      <th>1967-12-31</th>\n",
       "      <td>634.3</td>\n",
       "    </tr>\n",
       "  </tbody>\n",
       "</table>\n",
       "</div>"
      ],
      "text/plain": [
       "              RSK\n",
       "MESS_DATUM       \n",
       "1963-12-31  464.1\n",
       "1964-12-31  482.2\n",
       "1965-12-31  630.6\n",
       "1966-12-31  752.3\n",
       "1967-12-31  634.3"
      ]
     },
     "execution_count": 18,
     "metadata": {},
     "output_type": "execute_result"
    }
   ],
   "source": [
    "regen_df = df[['RSK']].resample('Y').sum()\n",
    "regen_df.head(5)"
   ]
  },
  {
   "cell_type": "code",
   "execution_count": 19,
   "metadata": {},
   "outputs": [
    {
     "data": {
      "text/html": [
       "<div>\n",
       "<style scoped>\n",
       "    .dataframe tbody tr th:only-of-type {\n",
       "        vertical-align: middle;\n",
       "    }\n",
       "\n",
       "    .dataframe tbody tr th {\n",
       "        vertical-align: top;\n",
       "    }\n",
       "\n",
       "    .dataframe thead th {\n",
       "        text-align: right;\n",
       "    }\n",
       "</style>\n",
       "<table border=\"1\" class=\"dataframe\">\n",
       "  <thead>\n",
       "    <tr style=\"text-align: right;\">\n",
       "      <th></th>\n",
       "      <th>RSK</th>\n",
       "    </tr>\n",
       "  </thead>\n",
       "  <tbody>\n",
       "    <tr>\n",
       "      <th>count</th>\n",
       "      <td>56.000000</td>\n",
       "    </tr>\n",
       "    <tr>\n",
       "      <th>mean</th>\n",
       "      <td>549.101786</td>\n",
       "    </tr>\n",
       "    <tr>\n",
       "      <th>std</th>\n",
       "      <td>104.560831</td>\n",
       "    </tr>\n",
       "    <tr>\n",
       "      <th>min</th>\n",
       "      <td>351.200000</td>\n",
       "    </tr>\n",
       "    <tr>\n",
       "      <th>25%</th>\n",
       "      <td>464.075000</td>\n",
       "    </tr>\n",
       "    <tr>\n",
       "      <th>50%</th>\n",
       "      <td>545.650000</td>\n",
       "    </tr>\n",
       "    <tr>\n",
       "      <th>75%</th>\n",
       "      <td>617.450000</td>\n",
       "    </tr>\n",
       "    <tr>\n",
       "      <th>max</th>\n",
       "      <td>858.200000</td>\n",
       "    </tr>\n",
       "  </tbody>\n",
       "</table>\n",
       "</div>"
      ],
      "text/plain": [
       "              RSK\n",
       "count   56.000000\n",
       "mean   549.101786\n",
       "std    104.560831\n",
       "min    351.200000\n",
       "25%    464.075000\n",
       "50%    545.650000\n",
       "75%    617.450000\n",
       "max    858.200000"
      ]
     },
     "execution_count": 19,
     "metadata": {},
     "output_type": "execute_result"
    }
   ],
   "source": [
    "regen_df.describe()"
   ]
  },
  {
   "cell_type": "code",
   "execution_count": 20,
   "metadata": {},
   "outputs": [
    {
     "name": "stdout",
     "output_type": "stream",
     "text": [
      "<class 'pandas.core.frame.DataFrame'>\n",
      "DatetimeIndex: 56 entries, 1963-12-31 to 2018-12-31\n",
      "Freq: A-DEC\n",
      "Data columns (total 1 columns):\n",
      "RSK    56 non-null float64\n",
      "dtypes: float64(1)\n",
      "memory usage: 896.0 bytes\n"
     ]
    }
   ],
   "source": [
    "regen_df.info()"
   ]
  },
  {
   "cell_type": "markdown",
   "metadata": {},
   "source": [
    "  Das folgende Histogramm deutet daraufhin, dass die jährliche Regenmenge normalverteilt ist."
   ]
  },
  {
   "cell_type": "code",
   "execution_count": 21,
   "metadata": {},
   "outputs": [
    {
     "data": {
      "image/png": "[encoded data removed]",
      "text/plain": [
       "<Figure size 432x288 with 1 Axes>"
      ]
     },
     "metadata": {
      "needs_background": "light"
     },
     "output_type": "display_data"
    }
   ],
   "source": [
    "add_source(sns.distplot(regen_df))"
   ]
  },
  {
   "cell_type": "markdown",
   "metadata": {},
   "source": [
    "Ich nutze den Shapiro-Wilk Test, um die jährliche Regenmenge auf Normalverteilung zu testen."
   ]
  },
  {
   "cell_type": "code",
   "execution_count": 22,
   "metadata": {},
   "outputs": [
    {
     "name": "stdout",
     "output_type": "stream",
     "text": [
      "Die jährliche Regenmenge ist wahrscheinlich normalverteilt.\n"
     ]
    }
   ],
   "source": [
    "stat, p = shapiro(regen_df['RSK'])\n",
    "alpha = 0.05\n",
    "if p > alpha:\n",
    "    print('Die jährliche Regenmenge ist wahrscheinlich normalverteilt.')\n",
    "else:\n",
    "    print('Die jährliche Regenmenge ist nicht normalverteilt.')"
   ]
  },
  {
   "cell_type": "markdown",
   "metadata": {},
   "source": [
    "Auch in folgendem Diagramm kann ich keine steigende oder sinkende Regenmenge ablesen."
   ]
  },
  {
   "cell_type": "code",
   "execution_count": 23,
   "metadata": {},
   "outputs": [
    {
     "data": {
      "text/plain": [
       "[<matplotlib.lines.Line2D at 0x7ff4f75f88d0>]"
      ]
     },
     "execution_count": 23,
     "metadata": {},
     "output_type": "execute_result"
    },
    {
     "data": {
      "image/png": "[encoded data removed]",
      "text/plain": [
       "<Figure size 432x288 with 1 Axes>"
      ]
     },
     "metadata": {
      "needs_background": "light"
     },
     "output_type": "display_data"
    }
   ],
   "source": [
    "regen = sns.lineplot(data=regen_df, legend=False)\n",
    "regen.set_xlabel('Jahr')\n",
    "regen.set_ylabel('jährliche Regenmenge in mm')\n",
    "add_source(regen)\n",
    "\n",
    "x = np.arange(regen_df['RSK'].size)\n",
    "fit = np.polyfit(x, regen_df['RSK'], 1)\n",
    "fit_fn = np.poly1d(fit)\n",
    "regen.plot(regen_df.index, fit_fn(x), 'k-')"
   ]
  },
  {
   "cell_type": "markdown",
   "metadata": {},
   "source": [
    "## Fazit\n",
    "\n",
    "Wie bereits weiter oben diskutiert, kann ich mit den vorliegenden Messwerten dem Klimawandel nicht auf die Schliche kommen, auch wenn ich visuell einen klaren Trend zu steigenden Temperaturen sehe.\n",
    "\n",
    "Ich kann aber sagen, dass sich mit Jupyter Notebooks und den verschiedenen SciPy Bestandteilen sehr effizient eine explorative Datenanalyse durchführen lässt!"
   ]
  }
 ],
 "metadata": {
  "file_extension": ".py",
  "kernelspec": {
   "display_name": "Python 3",
   "language": "python",
   "name": "python3"
  },
  "language_info": {
   "codemirror_mode": {
    "name": "ipython",
    "version": 3
   },
   "file_extension": ".py",
   "mimetype": "text/x-python",
   "name": "python",
   "nbconvert_exporter": "python",
   "pygments_lexer": "ipython3",
   "version": "3.7.4"
  },
  "mimetype": "text/x-python",
  "name": "python",
  "npconvert_exporter": "python",
  "pygments_lexer": "ipython3",
  "version": 3
 },
 "nbformat": 4,
 "nbformat_minor": 2
}
